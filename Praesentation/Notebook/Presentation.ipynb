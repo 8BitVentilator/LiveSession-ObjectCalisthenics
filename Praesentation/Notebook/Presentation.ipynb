{
 "cells": [
  {
   "cell_type": "code",
   "execution_count": 2,
   "metadata": {
    "dotnet_interactive": {
     "language": "csharp"
    },
    "polyglot_notebook": {
     "kernelName": "csharp"
    }
   },
   "outputs": [],
   "source": [
    "#r \"Examples\\ObjectCalisthenics\\bin\\Debug\\net7.0\\ObjectCalisthenics.dll\""
   ]
  },
  {
   "attachments": {},
   "cell_type": "markdown",
   "metadata": {},
   "source": [
    "## Rule 1: One level of indentation per method"
   ]
  },
  {
   "attachments": {},
   "cell_type": "markdown",
   "metadata": {},
   "source": [
    "Methoden mit mehr als eine Einrückungsebene...  \n",
    "* ... sind oft zu lang.  \n",
    "* ... sind schwerer zu lesen.  \n",
    "* ... haben oft mehrere Zuständigkeiten.  \n",
    "    * **Verstoß gegen das Single-Responsibility-Principle!**"
   ]
  },
  {
   "attachments": {},
   "cell_type": "markdown",
   "metadata": {},
   "source": [
    "### Beispiel"
   ]
  },
  {
   "attachments": {},
   "cell_type": "markdown",
   "metadata": {},
   "source": [
    "#### Problem"
   ]
  },
  {
   "attachments": {},
   "cell_type": "markdown",
   "metadata": {},
   "source": [
    "Ein Renderer für ein Vier-Gewinnt-Spiel auf der Konsole:"
   ]
  },
  {
   "cell_type": "code",
   "execution_count": 3,
   "metadata": {
    "dotnet_interactive": {
     "language": "csharp"
    },
    "polyglot_notebook": {
     "kernelName": "csharp"
    }
   },
   "outputs": [],
   "source": [
    "using ObjectCalisthenics.Rule1.Example1.Models;\n",
    "\n",
    "public class ConnectFourRenderer\n",
    "{\n",
    "    public string ToString(Board board)\n",
    "    {\n",
    "        // Ebene 0\n",
    "        var builder = new StringBuilder();\n",
    "\n",
    "        if (board != null)\n",
    "        {\n",
    "            // Ebene 1\n",
    "            for (var row = 0; row < board.Height; row++)\n",
    "            {\n",
    "                // Ebene 2\n",
    "                for (var column = 0; column < board.Width; column++)\n",
    "                {\n",
    "                    // Ebene 3\n",
    "                    string player;\n",
    "                    if (board[column, row] != null)\n",
    "                    {\n",
    "                        // Ebene 4\n",
    "                        player = board[column, row].Player.ToString();\n",
    "                    }\n",
    "                    else\n",
    "                    {\n",
    "                        player = \"-\";\n",
    "                    }\n",
    "\n",
    "                    builder.Append($\"{player} \");\n",
    "                }\n",
    "\n",
    "                builder.AppendLine();\n",
    "            }\n",
    "        }\n",
    "\n",
    "        return builder.ToString();\n",
    "    }\n",
    "}"
   ]
  },
  {
   "cell_type": "code",
   "execution_count": 4,
   "metadata": {
    "dotnet_interactive": {
     "language": "csharp"
    },
    "polyglot_notebook": {
     "kernelName": "csharp"
    }
   },
   "outputs": [
    {
     "name": "stdout",
     "output_type": "stream",
     "text": [
      "- - - - - - \r\n",
      "- - - - - - \r\n",
      "- - - - - - \r\n",
      "- - - - - - \r\n",
      "O - - - - - \r\n",
      "O - - - - - \r\n",
      "X X - - - - \r\n",
      "\r\n"
     ]
    }
   ],
   "source": [
    "var board = new Board(6, 7);\n",
    "board[0, 6] = new Field(Player.X);\n",
    "board[0, 5] = new Field(Player.O);\n",
    "board[1, 6] = new Field(Player.X);\n",
    "board[0, 4] = new Field(Player.O);\n",
    "\n",
    "Console.WriteLine(new ConnectFourRenderer().ToString(board));"
   ]
  },
  {
   "attachments": {},
   "cell_type": "markdown",
   "metadata": {},
   "source": [
    "#### Lösung"
   ]
  },
  {
   "cell_type": "code",
   "execution_count": 5,
   "metadata": {
    "dotnet_interactive": {
     "language": "csharp"
    },
    "polyglot_notebook": {
     "kernelName": "csharp"
    }
   },
   "outputs": [],
   "source": [
    "using ObjectCalisthenics.Rule1.Example1.Models;\n",
    "\n",
    "public class ConnectFourRenderer\n",
    "{\n",
    "    public string ToString(Board board)\n",
    "    {\n",
    "        if(board == null)\n",
    "            return string.Empty;\n",
    "\n",
    "        var builder = new StringBuilder();\n",
    "        RenderRows(board, builder);\n",
    "\n",
    "        return builder.ToString();\n",
    "    }\n",
    "\n",
    "    private static void RenderRows(Board board, StringBuilder builder)\n",
    "    {\n",
    "        for(var row = 0; row < board.Height; row++)\n",
    "            RenderRow(board, builder, row);\n",
    "    }\n",
    "\n",
    "    private static void RenderRow(Board board, StringBuilder builder, int row)\n",
    "    {\n",
    "        for(var column = 0; column < board.Width; column++)\n",
    "            builder.Append($\"{GetPlayer(board[column, row])} \");\n",
    "\n",
    "        builder.AppendLine();\n",
    "    }\n",
    "\n",
    "    private static string GetPlayer(Field field) => field?.Player.ToString() ?? \".\";\n",
    "}"
   ]
  },
  {
   "cell_type": "code",
   "execution_count": 6,
   "metadata": {
    "dotnet_interactive": {
     "language": "csharp"
    },
    "polyglot_notebook": {
     "kernelName": "csharp"
    }
   },
   "outputs": [
    {
     "name": "stdout",
     "output_type": "stream",
     "text": [
      ". . . . . . \r\n",
      ". . . . . . \r\n",
      ". . . . . . \r\n",
      ". . . . . . \r\n",
      "O . . . . . \r\n",
      "O . . . . . \r\n",
      "X X . . . . \r\n",
      "\r\n"
     ]
    }
   ],
   "source": [
    "var board = new Board(6, 7);\n",
    "board[0, 6] = new Field(Player.X);\n",
    "board[0, 5] = new Field(Player.O);\n",
    "board[1, 6] = new Field(Player.X);\n",
    "board[0, 4] = new Field(Player.O);\n",
    "\n",
    "Console.WriteLine(new ConnectFourRenderer().ToString(board));"
   ]
  },
  {
   "attachments": {},
   "cell_type": "markdown",
   "metadata": {},
   "source": [
    "## Rule 2: Don’t use the “else” keyword"
   ]
  },
  {
   "attachments": {},
   "cell_type": "markdown",
   "metadata": {},
   "source": [
    "* Ebenfalls ein Indiz für mehrere Zuständigkeiten.\n",
    "    * **Verstoß gegen das Single-Responsibility-Principle!**\n",
    "* Die Verlockung ist groß, einer `if`-Abfrage einfach ein else/if else-Block hinzuzufügen.\n",
    "    * **Verstoß gegen das Open-Close-Principle!**"
   ]
  },
  {
   "attachments": {},
   "cell_type": "markdown",
   "metadata": {},
   "source": [
    "### Beispiel 1"
   ]
  },
  {
   "attachments": {},
   "cell_type": "markdown",
   "metadata": {},
   "source": [
    "#### Problem"
   ]
  },
  {
   "attachments": {},
   "cell_type": "markdown",
   "metadata": {},
   "source": [
    "Klasse mit mehreren Zuständigkeiten.\n",
    "Die Klasse besitzt die Methoden ``DoSomething()`` und ``DoSomethingElse()``, die zwei unterschiedliche Logiken ausführen.\n",
    "\n",
    "Der Test wird komplexer, weil man nun beide Logiken testen muss."
   ]
  },
  {
   "cell_type": "code",
   "execution_count": 7,
   "metadata": {
    "dotnet_interactive": {
     "language": "csharp"
    },
    "polyglot_notebook": {
     "kernelName": "csharp"
    }
   },
   "outputs": [],
   "source": [
    "using ObjectCalisthenics.Rule2.Example1.Models;\n",
    "\n",
    "public class MultipleResponsibilities\n",
    "{\n",
    "    public void DoSomething(bool somethingElse)\n",
    "    {\n",
    "        if(!somethingElse)\n",
    "            DoSomething();\n",
    "        else\n",
    "            DoSomethingElse();\n",
    "    }\n",
    "\n",
    "    private void DoSomething() { Console.WriteLine(\"DoSomething\"); }\n",
    "\n",
    "    private void DoSomethingElse() { Console.WriteLine(\"DoSomethingElse\"); }\n",
    "}"
   ]
  },
  {
   "cell_type": "code",
   "execution_count": 8,
   "metadata": {
    "dotnet_interactive": {
     "language": "csharp"
    },
    "polyglot_notebook": {
     "kernelName": "csharp"
    }
   },
   "outputs": [
    {
     "name": "stdout",
     "output_type": "stream",
     "text": [
      "DoSomethingElse\n",
      "DoSomething\n"
     ]
    }
   ],
   "source": [
    "var multipleResponsibilities = new MultipleResponsibilities();\n",
    "multipleResponsibilities.DoSomething(true);\n",
    "multipleResponsibilities.DoSomething(false);"
   ]
  },
  {
   "attachments": {},
   "cell_type": "markdown",
   "metadata": {},
   "source": [
    "#### Lösung"
   ]
  },
  {
   "attachments": {},
   "cell_type": "markdown",
   "metadata": {},
   "source": [
    "Die Logiken in separate Klassen auslagern."
   ]
  },
  {
   "cell_type": "code",
   "execution_count": 9,
   "metadata": {
    "dotnet_interactive": {
     "language": "csharp"
    },
    "polyglot_notebook": {
     "kernelName": "csharp"
    }
   },
   "outputs": [],
   "source": [
    "using ObjectCalisthenics.Rule2.Example1.Models;\n",
    "\n",
    "public class MultipleResponsibilities\n",
    "{\n",
    "    public void DoSomething(ISomething something)\n",
    "    {\n",
    "        something.Do();\n",
    "    }\n",
    "}\n",
    "\n",
    "public class Something : ISomething\n",
    "{\n",
    "    public void Do() { Console.WriteLine(\"DoSomething\"); }\n",
    "}\n",
    "\n",
    "public class SomethingElse : ISomething\n",
    "{\n",
    "    public void Do() { Console.WriteLine(\"DoSomethingElse\"); }\n",
    "}"
   ]
  },
  {
   "cell_type": "code",
   "execution_count": 10,
   "metadata": {
    "dotnet_interactive": {
     "language": "csharp"
    },
    "polyglot_notebook": {
     "kernelName": "csharp"
    }
   },
   "outputs": [
    {
     "name": "stdout",
     "output_type": "stream",
     "text": [
      "DoSomething\n",
      "DoSomethingElse\n"
     ]
    }
   ],
   "source": [
    "var multipleResponsibilities = new MultipleResponsibilities();\n",
    "multipleResponsibilities.DoSomething(new Something());\n",
    "multipleResponsibilities.DoSomething(new SomethingElse());"
   ]
  },
  {
   "attachments": {},
   "cell_type": "markdown",
   "metadata": {},
   "source": [
    "### Beispiel 2"
   ]
  },
  {
   "attachments": {},
   "cell_type": "markdown",
   "metadata": {},
   "source": [
    "#### Problem"
   ]
  },
  {
   "attachments": {},
   "cell_type": "markdown",
   "metadata": {},
   "source": [
    "Schlecht lesbarer und wartbarer Code durch ``if``, ``else if`` und ``else`` Überfrachtung."
   ]
  },
  {
   "cell_type": "code",
   "execution_count": 2,
   "metadata": {
    "dotnet_interactive": {
     "language": "csharp"
    },
    "polyglot_notebook": {
     "kernelName": "csharp"
    }
   },
   "outputs": [],
   "source": [
    "using ObjectCalisthenics.Rule2.Example2.Models;\n",
    "\n",
    "public class StateMaschine\n",
    "{\n",
    "    public State State { get; private set; } = State.Pending;\n",
    "\n",
    "    public void Handle(ICommand command)\n",
    "    {\n",
    "        if (this.State == State.Started && command is RollDiceCommand)\n",
    "            command.Execute();\n",
    "        else\n",
    "            throw new Exception();\n",
    "    }\n",
    "\n",
    "    public void Next()\n",
    "    {\n",
    "        if(this.State == State.Pending)\n",
    "            this.State = State.Started;\n",
    "        else if(this.State == State.Started)\n",
    "            this.State = State.Finished;\n",
    "        else if(this.State == State.Finished)\n",
    "            throw new Exception(\"Machine already finished!\");\n",
    "        else if(this.State == State.Aborted)\n",
    "            throw new Exception(\"Machine Aborted!\");\n",
    "    }\n",
    "\n",
    "    public void Abort()\n",
    "    {\n",
    "        if(this.State == State.Finished)\n",
    "            throw new Exception(\"Machine already finished!\");\n",
    "        else if(this.State == State.Aborted)\n",
    "            throw new Exception(\"Machine Aborted!\");\n",
    "\n",
    "        this.State = State.Aborted;\n",
    "    }\n",
    "}"
   ]
  },
  {
   "cell_type": "code",
   "execution_count": 3,
   "metadata": {
    "dotnet_interactive": {
     "language": "csharp"
    },
    "polyglot_notebook": {
     "kernelName": "csharp"
    }
   },
   "outputs": [
    {
     "ename": "Error",
     "evalue": "System.Exception: Exception of type 'System.Exception' was thrown.\r\n   at Submission#3.StateMaschine.Handle(ICommand command)\r\n   at Submission#4.<<Initialize>>d__0.MoveNext()\r\n--- End of stack trace from previous location ---\r\n   at Microsoft.CodeAnalysis.Scripting.ScriptExecutionState.RunSubmissionsAsync[TResult](ImmutableArray`1 precedingExecutors, Func`2 currentExecutor, StrongBox`1 exceptionHolderOpt, Func`2 catchExceptionOpt, CancellationToken cancellationToken)",
     "output_type": "error",
     "traceback": [
      "System.Exception: Exception of type 'System.Exception' was thrown.\r\n",
      "   at Submission#3.StateMaschine.Handle(ICommand command)\r\n",
      "   at Submission#4.<<Initialize>>d__0.MoveNext()\r\n",
      "--- End of stack trace from previous location ---\r\n",
      "   at Microsoft.CodeAnalysis.Scripting.ScriptExecutionState.RunSubmissionsAsync[TResult](ImmutableArray`1 precedingExecutors, Func`2 currentExecutor, StrongBox`1 exceptionHolderOpt, Func`2 catchExceptionOpt, CancellationToken cancellationToken)"
     ]
    }
   ],
   "source": [
    "var stateMaschine = new StateMaschine();\n",
    "var command = new RollDiceCommand();\n",
    "stateMaschine.Handle(command);"
   ]
  },
  {
   "cell_type": "code",
   "execution_count": 5,
   "metadata": {
    "dotnet_interactive": {
     "language": "csharp"
    },
    "polyglot_notebook": {
     "kernelName": "csharp"
    }
   },
   "outputs": [
    {
     "name": "stdout",
     "output_type": "stream",
     "text": [
      "5\r\n"
     ]
    }
   ],
   "source": [
    "var stateMaschine = new StateMaschine();\n",
    "stateMaschine.Next();\n",
    "var command = new RollDiceCommand();\n",
    "stateMaschine.Handle(command);"
   ]
  },
  {
   "attachments": {},
   "cell_type": "markdown",
   "metadata": {},
   "source": [
    "#### Lösung"
   ]
  },
  {
   "attachments": {},
   "cell_type": "markdown",
   "metadata": {},
   "source": [
    "State Pattern!"
   ]
  },
  {
   "cell_type": "code",
   "execution_count": 18,
   "metadata": {
    "dotnet_interactive": {
     "language": "csharp"
    },
    "polyglot_notebook": {
     "kernelName": "csharp"
    }
   },
   "outputs": [],
   "source": [
    "public interface IState\n",
    "{\n",
    "    void Next();\n",
    "    void Abort();\n",
    "    bool CanHandle(ICommand command);\n",
    "}\n",
    "\n",
    "public class StateMaschine\n",
    "{\n",
    "    public IState State { get; private set; }\n",
    "    public void Next() => State.Next();\n",
    "    public void Abort() => State.Abort();\n",
    "    public void ChangeState(IState state) => State = state;\n",
    "\n",
    "    public StateMaschine()\n",
    "    {\n",
    "        State = new PendingState(this);\n",
    "    }\n",
    "\n",
    "    public void Handle(ICommand command)\n",
    "    {\n",
    "        if (!State.CanHandle(command))\n",
    "            throw new Exception();\n",
    "\n",
    "        command.Execute();\n",
    "    }\n",
    "}\n",
    "\n",
    "public abstract class State : IState\n",
    "{\n",
    "    protected StateMaschine StateMaschine { get; }\n",
    "\n",
    "    public State(StateMaschine stateMaschine) => StateMaschine = stateMaschine;\n",
    "\n",
    "    public virtual void Abort() => StateMaschine.ChangeState(new AbortedState(StateMaschine));\n",
    "    public virtual bool CanHandle(ICommand command) => false;\n",
    "    public abstract void Next();\n",
    "}\n",
    "\n",
    "public class PendingState : State\n",
    "{\n",
    "    public PendingState(StateMaschine stateMaschine) : base(stateMaschine) { }\n",
    "\n",
    "    public override void Next() => StateMaschine.ChangeState(new StartedState(StateMaschine));\n",
    "}\n",
    "\n",
    "public class StartedState : State\n",
    "{\n",
    "    public StartedState(StateMaschine stateMaschine) : base(stateMaschine) { }\n",
    "\n",
    "    public override bool CanHandle(ICommand command) => command switch\n",
    "    {\n",
    "        RollDiceCommand => true,\n",
    "        _ => false\n",
    "    };\n",
    "\n",
    "    public override void Next() => StateMaschine.ChangeState(new FinishedState(StateMaschine));\n",
    "}\n",
    "\n",
    "public class FinishedState : State\n",
    "{\n",
    "    public FinishedState(StateMaschine stateMaschine) : base(stateMaschine) { }\n",
    "\n",
    "    public override void Abort() => throw new Exception(\"Machine already finished!\");\n",
    "    public override void Next() => throw new Exception(\"Machine already finished!\");\n",
    "}\n",
    "\n",
    "public class AbortedState : State\n",
    "{\n",
    "    public AbortedState(StateMaschine stateMaschine) : base(stateMaschine) { }\n",
    "\n",
    "    public override void Abort() => throw new Exception(\"Machine Aborted!\");\n",
    "    public override void Next() => throw new Exception(\"Machine Aborted!\");\n",
    "}"
   ]
  },
  {
   "cell_type": "code",
   "execution_count": 19,
   "metadata": {
    "dotnet_interactive": {
     "language": "csharp"
    },
    "polyglot_notebook": {
     "kernelName": "csharp"
    }
   },
   "outputs": [
    {
     "ename": "Error",
     "evalue": "System.Exception: Exception of type 'System.Exception' was thrown.\r\n   at Submission#19.StateMaschine.Handle(ICommand command)\r\n   at Submission#20.<<Initialize>>d__0.MoveNext()\r\n--- End of stack trace from previous location ---\r\n   at Microsoft.CodeAnalysis.Scripting.ScriptExecutionState.RunSubmissionsAsync[TResult](ImmutableArray`1 precedingExecutors, Func`2 currentExecutor, StrongBox`1 exceptionHolderOpt, Func`2 catchExceptionOpt, CancellationToken cancellationToken)",
     "output_type": "error",
     "traceback": [
      "System.Exception: Exception of type 'System.Exception' was thrown.\r\n",
      "   at Submission#19.StateMaschine.Handle(ICommand command)\r\n",
      "   at Submission#20.<<Initialize>>d__0.MoveNext()\r\n",
      "--- End of stack trace from previous location ---\r\n",
      "   at Microsoft.CodeAnalysis.Scripting.ScriptExecutionState.RunSubmissionsAsync[TResult](ImmutableArray`1 precedingExecutors, Func`2 currentExecutor, StrongBox`1 exceptionHolderOpt, Func`2 catchExceptionOpt, CancellationToken cancellationToken)"
     ]
    }
   ],
   "source": [
    "var stateMaschine = new StateMaschine();\n",
    "var command = new RollDiceCommand();\n",
    "stateMaschine.Handle(command);"
   ]
  },
  {
   "cell_type": "code",
   "execution_count": 20,
   "metadata": {
    "dotnet_interactive": {
     "language": "csharp"
    },
    "polyglot_notebook": {
     "kernelName": "csharp"
    }
   },
   "outputs": [
    {
     "name": "stdout",
     "output_type": "stream",
     "text": [
      "4\r\n"
     ]
    }
   ],
   "source": [
    "var stateMaschine = new StateMaschine();\n",
    "stateMaschine.Next();\n",
    "var command = new RollDiceCommand();\n",
    "stateMaschine.Handle(command);"
   ]
  },
  {
   "attachments": {},
   "cell_type": "markdown",
   "metadata": {},
   "source": [
    "## Rule 3: Wrap all primitives and Strings"
   ]
  },
  {
   "attachments": {},
   "cell_type": "markdown",
   "metadata": {},
   "source": [
    "* Wertetypen und Strings folgen Businessregeln. Beispiele:\n",
    "    * IBAN\n",
    "    * BIC\n",
    "    * ISBN\n",
    "    * E-Mail-Adresse\n",
    "    * Spielwürfel\n",
    "    * IDs\n",
    "* Also gehört die Logik auch an eine zentrale Stelle\n",
    "* Verhindert auch, dass Datentypen nicht vertauscht werden können\n",
    "    * **Primitive Obsession Anti-Pattern!**"
   ]
  },
  {
   "attachments": {},
   "cell_type": "markdown",
   "metadata": {},
   "source": [
    "### Beispiel 1"
   ]
  },
  {
   "attachments": {},
   "cell_type": "markdown",
   "metadata": {},
   "source": [
    "#### Problem"
   ]
  },
  {
   "attachments": {},
   "cell_type": "markdown",
   "metadata": {},
   "source": [
    "Ein Rechner, der den Brutto-Betrag eines Nettos-Betrags errechnet."
   ]
  },
  {
   "cell_type": "code",
   "execution_count": 24,
   "metadata": {
    "dotnet_interactive": {
     "language": "csharp"
    },
    "polyglot_notebook": {
     "kernelName": "csharp"
    }
   },
   "outputs": [],
   "source": [
    "public class GrossCalculator\n",
    "{\n",
    "    public static decimal Gross(decimal net, decimal taxes)\n",
    "        => net + net * taxes;\n",
    "}"
   ]
  },
  {
   "cell_type": "markdown",
   "metadata": {},
   "source": [
    "Muss die Methode jetzt mit ``Gross(123.45m, 0.19)`` oder ``Gross(123.45m, 19)`` aufgerufen werden? Sind negative Steuern erlaubt?"
   ]
  },
  {
   "cell_type": "code",
   "execution_count": 25,
   "metadata": {
    "dotnet_interactive": {
     "language": "csharp"
    },
    "polyglot_notebook": {
     "kernelName": "csharp"
    }
   },
   "outputs": [
    {
     "name": "stdout",
     "output_type": "stream",
     "text": [
      "146.9055\n",
      "2469.00\n"
     ]
    }
   ],
   "source": [
    "Console.WriteLine(GrossCalculator.Gross(123.45m, 0.19m));\n",
    "Console.WriteLine(GrossCalculator.Gross(123.45m, 19m));"
   ]
  },
  {
   "attachments": {},
   "cell_type": "markdown",
   "metadata": {},
   "source": [
    "#### Lösung"
   ]
  },
  {
   "attachments": {},
   "cell_type": "markdown",
   "metadata": {},
   "source": [
    "Separate Klassen.  \n",
    "Man muss zwar immer noch die Dokumenation zu Taxes lesen aber jetzt ist klarer, dass man z.B. 19 verwenden muss.\n",
    "\n",
    "Zwischen Netto- und Brutto-Wert wird auch unterschieden und können nicht mehr vertauscht werden."
   ]
  },
  {
   "cell_type": "code",
   "execution_count": 27,
   "metadata": {
    "dotnet_interactive": {
     "language": "csharp"
    },
    "polyglot_notebook": {
     "kernelName": "csharp"
    }
   },
   "outputs": [],
   "source": [
    "public class GrossCalculator\n",
    "{\n",
    "    public static Gross Gross(Net net, Taxes taxes)\n",
    "        => new(net.Amount + net.Amount * taxes.Percentage2);\n",
    "}\n",
    "\n",
    "public class Taxes\n",
    "{\n",
    "    public decimal Percentage { get; }\n",
    "\n",
    "    public decimal Percentage2 => this.Percentage / 100;\n",
    "\n",
    "    public Taxes(decimal Percentage)\n",
    "    {\n",
    "        if(Percentage <= 0 || Percentage >= 100)\n",
    "            throw new ArgumentOutOfRangeException(nameof(Percentage));\n",
    "\n",
    "        this.Percentage = Percentage;\n",
    "    }\n",
    "}\n",
    "\n",
    "public record Money(decimal Amount);\n",
    "public record Net(decimal Amount) : Money(Amount);\n",
    "public record Gross(decimal Amount) : Money(Amount);"
   ]
  },
  {
   "cell_type": "code",
   "execution_count": 28,
   "metadata": {
    "dotnet_interactive": {
     "language": "csharp"
    },
    "polyglot_notebook": {
     "kernelName": "csharp"
    }
   },
   "outputs": [
    {
     "name": "stdout",
     "output_type": "stream",
     "text": [
      "Gross { Amount = 146.9055 }\r\n"
     ]
    }
   ],
   "source": [
    "Console.WriteLine(GrossCalculator.Gross(new Net(123.45m), new Taxes(19)));"
   ]
  },
  {
   "attachments": {},
   "cell_type": "markdown",
   "metadata": {},
   "source": [
    "### Beispiel 2"
   ]
  },
  {
   "attachments": {},
   "cell_type": "markdown",
   "metadata": {},
   "source": [
    "#### Problem"
   ]
  },
  {
   "attachments": {},
   "cell_type": "markdown",
   "metadata": {},
   "source": [
    "Eine Klasse, die einen 6-seitigen Spielwürfel repräsentiert, liefert einen ``int``-Wert zurück."
   ]
  },
  {
   "cell_type": "code",
   "execution_count": 29,
   "metadata": {
    "dotnet_interactive": {
     "language": "csharp"
    },
    "polyglot_notebook": {
     "kernelName": "csharp"
    }
   },
   "outputs": [],
   "source": [
    "public class Dice\n",
    "{\n",
    "    private static readonly Random _random = new();\n",
    "\n",
    "    public int Roll() => _random.Next(1, 6 + 1);\n",
    "}"
   ]
  },
  {
   "attachments": {},
   "cell_type": "markdown",
   "metadata": {},
   "source": [
    "Jede Methode, die das Ergebnis von ``Roll()`` verarbeitet, muss nun schauen, dass der Wert zwischen 1 und 6 liegt:"
   ]
  },
  {
   "cell_type": "code",
   "execution_count": 30,
   "metadata": {
    "dotnet_interactive": {
     "language": "csharp"
    },
    "polyglot_notebook": {
     "kernelName": "csharp"
    }
   },
   "outputs": [],
   "source": [
    "public void Execute(int roll)\n",
    "{\n",
    "    if(roll < 1 || roll > 6)\n",
    "        throw new ArgumentOutOfRangeException(nameof(roll));\n",
    "    // ...\n",
    "}"
   ]
  },
  {
   "cell_type": "code",
   "execution_count": 31,
   "metadata": {
    "dotnet_interactive": {
     "language": "csharp"
    },
    "polyglot_notebook": {
     "kernelName": "csharp"
    }
   },
   "outputs": [
    {
     "ename": "Error",
     "evalue": "System.ArgumentOutOfRangeException: Specified argument was out of the range of valid values. (Parameter 'roll')\r\n   at Submission#31.Execute(Int32 roll)\r\n   at Submission#32.<<Initialize>>d__0.MoveNext()\r\n--- End of stack trace from previous location ---\r\n   at Microsoft.CodeAnalysis.Scripting.ScriptExecutionState.RunSubmissionsAsync[TResult](ImmutableArray`1 precedingExecutors, Func`2 currentExecutor, StrongBox`1 exceptionHolderOpt, Func`2 catchExceptionOpt, CancellationToken cancellationToken)",
     "output_type": "error",
     "traceback": [
      "System.ArgumentOutOfRangeException: Specified argument was out of the range of valid values. (Parameter 'roll')\r\n",
      "   at Submission#31.Execute(Int32 roll)\r\n",
      "   at Submission#32.<<Initialize>>d__0.MoveNext()\r\n",
      "--- End of stack trace from previous location ---\r\n",
      "   at Microsoft.CodeAnalysis.Scripting.ScriptExecutionState.RunSubmissionsAsync[TResult](ImmutableArray`1 precedingExecutors, Func`2 currentExecutor, StrongBox`1 exceptionHolderOpt, Func`2 catchExceptionOpt, CancellationToken cancellationToken)"
     ]
    }
   ],
   "source": [
    "Execute(7);"
   ]
  },
  {
   "attachments": {},
   "cell_type": "markdown",
   "metadata": {},
   "source": [
    "#### Lösung"
   ]
  },
  {
   "attachments": {},
   "cell_type": "markdown",
   "metadata": {},
   "source": [
    "Eigenen Datentyp für das Würfelergebnis."
   ]
  },
  {
   "cell_type": "code",
   "execution_count": 32,
   "metadata": {
    "dotnet_interactive": {
     "language": "csharp"
    },
    "polyglot_notebook": {
     "kernelName": "csharp"
    }
   },
   "outputs": [],
   "source": [
    "public class Dice\n",
    "{\n",
    "    private static readonly Random _random = new();\n",
    "\n",
    "    public DiceResult Roll() => new(_random.Next(1, 6 + 1));\n",
    "}\n",
    "\n",
    "public class DiceResult\n",
    "{\n",
    "    public int Value { get; }\n",
    "\n",
    "    public DiceResult(int value)\n",
    "    {\n",
    "        if(value < 1 || value > 6)\n",
    "            throw new ArgumentOutOfRangeException(nameof(value));\n",
    "\n",
    "        this.Value = value;\n",
    "    }\n",
    "}"
   ]
  },
  {
   "cell_type": "code",
   "execution_count": 33,
   "metadata": {
    "dotnet_interactive": {
     "language": "csharp"
    },
    "polyglot_notebook": {
     "kernelName": "csharp"
    }
   },
   "outputs": [],
   "source": [
    "public void Execute(DiceResult diceResult)\n",
    "{\n",
    "    Console.WriteLine(diceResult);\n",
    "}"
   ]
  },
  {
   "cell_type": "code",
   "execution_count": 34,
   "metadata": {
    "dotnet_interactive": {
     "language": "csharp"
    },
    "polyglot_notebook": {
     "kernelName": "csharp"
    }
   },
   "outputs": [
    {
     "ename": "Error",
     "evalue": "System.ArgumentOutOfRangeException: Specified argument was out of the range of valid values. (Parameter 'value')\r\n   at Submission#33.DiceResult..ctor(Int32 value)\r\n   at Submission#35.<<Initialize>>d__0.MoveNext()\r\n--- End of stack trace from previous location ---\r\n   at Microsoft.CodeAnalysis.Scripting.ScriptExecutionState.RunSubmissionsAsync[TResult](ImmutableArray`1 precedingExecutors, Func`2 currentExecutor, StrongBox`1 exceptionHolderOpt, Func`2 catchExceptionOpt, CancellationToken cancellationToken)",
     "output_type": "error",
     "traceback": [
      "System.ArgumentOutOfRangeException: Specified argument was out of the range of valid values. (Parameter 'value')\r\n",
      "   at Submission#33.DiceResult..ctor(Int32 value)\r\n",
      "   at Submission#35.<<Initialize>>d__0.MoveNext()\r\n",
      "--- End of stack trace from previous location ---\r\n",
      "   at Microsoft.CodeAnalysis.Scripting.ScriptExecutionState.RunSubmissionsAsync[TResult](ImmutableArray`1 precedingExecutors, Func`2 currentExecutor, StrongBox`1 exceptionHolderOpt, Func`2 catchExceptionOpt, CancellationToken cancellationToken)"
     ]
    }
   ],
   "source": [
    "Execute(new DiceResult(7));"
   ]
  },
  {
   "attachments": {},
   "cell_type": "markdown",
   "metadata": {},
   "source": [
    "## Rule 4: First class collections"
   ]
  },
  {
   "attachments": {},
   "cell_type": "markdown",
   "metadata": {},
   "source": [
    "* Wie Regel 3, nur mit Collections\n",
    "* Auch Collections folgen oft Businessregeln"
   ]
  },
  {
   "attachments": {},
   "cell_type": "markdown",
   "metadata": {},
   "source": [
    "### Beispiel"
   ]
  },
  {
   "attachments": {},
   "cell_type": "markdown",
   "metadata": {},
   "source": [
    "#### Problem"
   ]
  },
  {
   "attachments": {},
   "cell_type": "markdown",
   "metadata": {},
   "source": [
    "Eine Klasse, die einen einen Spieler eines Kartenspiels repräsentiert, besitzt eine Liste mit den Spielkarten des Spielers.\n",
    "Ein Spieler darf nur maximal fünf Karten besitzen."
   ]
  },
  {
   "cell_type": "code",
   "execution_count": 35,
   "metadata": {
    "dotnet_interactive": {
     "language": "csharp"
    },
    "polyglot_notebook": {
     "kernelName": "csharp"
    }
   },
   "outputs": [],
   "source": [
    "using ObjectCalisthenics.Rule4.Example1.Models;\n",
    "\n",
    "public class Player\n",
    "{\n",
    "    private readonly List<Card> _hand = new();\n",
    "    public IReadOnlyCollection<Card> Hand => _hand.AsReadOnly();\n",
    "\n",
    "    public void AddCardToHand(Card card)\n",
    "    {\n",
    "        if(_hand.Count == 5)\n",
    "            throw new Exception();\n",
    "\n",
    "        _hand.Add(card);\n",
    "    }\n",
    "}"
   ]
  },
  {
   "cell_type": "code",
   "execution_count": 36,
   "metadata": {
    "dotnet_interactive": {
     "language": "csharp"
    },
    "polyglot_notebook": {
     "kernelName": "csharp"
    }
   },
   "outputs": [
    {
     "name": "stdout",
     "output_type": "stream",
     "text": [
      "Card { Suit = Two, Color = Clubs }\r\n",
      "Card { Suit = Four, Color = Diamonds }\r\n",
      "Card { Suit = Six, Color = Hearts }\r\n",
      "Card { Suit = Nine, Color = Clubs }\r\n",
      "Card { Suit = Joker, Color = Hearts }\r\n"
     ]
    },
    {
     "ename": "Error",
     "evalue": "System.Exception: Exception of type 'System.Exception' was thrown.\r\n   at Submission#36.Player.AddCardToHand(Card card)\r\n   at Submission#37.<<Initialize>>d__0.MoveNext()\r\n--- End of stack trace from previous location ---\r\n   at Microsoft.CodeAnalysis.Scripting.ScriptExecutionState.RunSubmissionsAsync[TResult](ImmutableArray`1 precedingExecutors, Func`2 currentExecutor, StrongBox`1 exceptionHolderOpt, Func`2 catchExceptionOpt, CancellationToken cancellationToken)",
     "output_type": "error",
     "traceback": [
      "System.Exception: Exception of type 'System.Exception' was thrown.\r\n",
      "   at Submission#36.Player.AddCardToHand(Card card)\r\n",
      "   at Submission#37.<<Initialize>>d__0.MoveNext()\r\n",
      "--- End of stack trace from previous location ---\r\n",
      "   at Microsoft.CodeAnalysis.Scripting.ScriptExecutionState.RunSubmissionsAsync[TResult](ImmutableArray`1 precedingExecutors, Func`2 currentExecutor, StrongBox`1 exceptionHolderOpt, Func`2 catchExceptionOpt, CancellationToken cancellationToken)"
     ]
    }
   ],
   "source": [
    "var player = new Player();\n",
    "player.AddCardToHand(new Card(Suit.Two, Color.Clubs));\n",
    "player.AddCardToHand(new Card(Suit.Four, Color.Diamonds));\n",
    "player.AddCardToHand(new Card(Suit.Six, Color.Hearts));\n",
    "player.AddCardToHand(new Card(Suit.Nine, Color.Clubs));\n",
    "player.AddCardToHand(new Card(Suit.Joker, Color.Hearts));\n",
    "Console.WriteLine(string.Join(Environment.NewLine, player.Hand));\n",
    "player.AddCardToHand(new Card(Suit.King, Color.Spades));"
   ]
  },
  {
   "attachments": {},
   "cell_type": "markdown",
   "metadata": {},
   "source": [
    "Die ``Player``-Klasse ist nun zuständig, zu schauen, dass es nicht mehr als fünf Karten werden."
   ]
  },
  {
   "attachments": {},
   "cell_type": "markdown",
   "metadata": {},
   "source": [
    "#### Lösung"
   ]
  },
  {
   "attachments": {},
   "cell_type": "markdown",
   "metadata": {},
   "source": [
    "Eine separate Klasse, die für die Karten zuständig ist."
   ]
  },
  {
   "cell_type": "code",
   "execution_count": 37,
   "metadata": {
    "dotnet_interactive": {
     "language": "csharp"
    },
    "polyglot_notebook": {
     "kernelName": "csharp"
    }
   },
   "outputs": [],
   "source": [
    "using ObjectCalisthenics.Rule4.Example1.Models;\n",
    "\n",
    "public class Player\n",
    "{\n",
    "    private readonly Hand _hand = new();\n",
    "    public IReadOnlyCollection<Card> Hand => _hand.Cards;\n",
    "\n",
    "    public void AddCardToHand(Card card) => _hand.Add(card);\n",
    "}\n",
    "\n",
    "internal class Hand\n",
    "{\n",
    "    private readonly List<Card> _cards = new List<Card>();\n",
    "    public IReadOnlyCollection<Card> Cards => _cards.AsReadOnly();\n",
    "\n",
    "    public void Add(Card card)\n",
    "    {\n",
    "        if(_cards.Count == 5)\n",
    "            throw new Exception();\n",
    "\n",
    "        _cards.Add(card);\n",
    "    }\n",
    "}"
   ]
  },
  {
   "cell_type": "code",
   "execution_count": 38,
   "metadata": {
    "dotnet_interactive": {
     "language": "csharp"
    },
    "polyglot_notebook": {
     "kernelName": "csharp"
    }
   },
   "outputs": [
    {
     "name": "stdout",
     "output_type": "stream",
     "text": [
      "Card { Suit = Two, Color = Clubs }\r\n",
      "Card { Suit = Four, Color = Diamonds }\r\n",
      "Card { Suit = Six, Color = Hearts }\r\n",
      "Card { Suit = Nine, Color = Clubs }\r\n",
      "Card { Suit = Joker, Color = Hearts }\r\n"
     ]
    },
    {
     "ename": "Error",
     "evalue": "System.Exception: Exception of type 'System.Exception' was thrown.\r\n   at Submission#38.Hand.Add(Card card)\r\n   at Submission#38.Player.AddCardToHand(Card card)\r\n   at Submission#39.<<Initialize>>d__0.MoveNext()\r\n--- End of stack trace from previous location ---\r\n   at Microsoft.CodeAnalysis.Scripting.ScriptExecutionState.RunSubmissionsAsync[TResult](ImmutableArray`1 precedingExecutors, Func`2 currentExecutor, StrongBox`1 exceptionHolderOpt, Func`2 catchExceptionOpt, CancellationToken cancellationToken)",
     "output_type": "error",
     "traceback": [
      "System.Exception: Exception of type 'System.Exception' was thrown.\r\n",
      "   at Submission#38.Hand.Add(Card card)\r\n",
      "   at Submission#38.Player.AddCardToHand(Card card)\r\n",
      "   at Submission#39.<<Initialize>>d__0.MoveNext()\r\n",
      "--- End of stack trace from previous location ---\r\n",
      "   at Microsoft.CodeAnalysis.Scripting.ScriptExecutionState.RunSubmissionsAsync[TResult](ImmutableArray`1 precedingExecutors, Func`2 currentExecutor, StrongBox`1 exceptionHolderOpt, Func`2 catchExceptionOpt, CancellationToken cancellationToken)"
     ]
    }
   ],
   "source": [
    "var player = new Player();\n",
    "player.AddCardToHand(new Card(Suit.Two, Color.Clubs));\n",
    "player.AddCardToHand(new Card(Suit.Four, Color.Diamonds));\n",
    "player.AddCardToHand(new Card(Suit.Six, Color.Hearts));\n",
    "player.AddCardToHand(new Card(Suit.Nine, Color.Clubs));\n",
    "player.AddCardToHand(new Card(Suit.Joker, Color.Hearts));\n",
    "Console.WriteLine(string.Join(Environment.NewLine, player.Hand));\n",
    "player.AddCardToHand(new Card(Suit.King, Color.Spades));"
   ]
  },
  {
   "attachments": {},
   "cell_type": "markdown",
   "metadata": {},
   "source": [
    "Dadurch wird die Komplexität der ``Player``-Klasse verringert."
   ]
  },
  {
   "attachments": {},
   "cell_type": "markdown",
   "metadata": {},
   "source": [
    "## Rule 5: One dot per line"
   ]
  },
  {
   "attachments": {},
   "cell_type": "markdown",
   "metadata": {},
   "source": [
    "* Law of demeter\n",
    "    * Objekte sollen nur mit Objekten in ihrer unmittelbaren Umgebung kommunizieren.\n",
    "    * Die Kopplung (= die Anzahl von Abhängigkeiten) wird verringert und die Wartbarkeit erhöht."
   ]
  },
  {
   "attachments": {},
   "cell_type": "markdown",
   "metadata": {},
   "source": [
    "### Beispiel"
   ]
  },
  {
   "attachments": {},
   "cell_type": "markdown",
   "metadata": {},
   "source": [
    "#### Problem"
   ]
  },
  {
   "attachments": {},
   "cell_type": "markdown",
   "metadata": {},
   "source": [
    "Ein Auto, mit einem Motor und ein Fahrer, der ein Auto fährt."
   ]
  },
  {
   "cell_type": "code",
   "execution_count": null,
   "metadata": {
    "dotnet_interactive": {
     "language": "csharp"
    },
    "polyglot_notebook": {
     "kernelName": "csharp"
    }
   },
   "outputs": [],
   "source": [
    "public class Engine\n",
    "{\n",
    "    public void Start() { Console.WriteLine(\"Wruum!\"); }\n",
    "}\n",
    "\n",
    "public class Car\n",
    "{\n",
    "    public Engine Engine { get; }\n",
    "\n",
    "    public Car(Engine engine)\n",
    "    {\n",
    "        Engine = engine;\n",
    "    }\n",
    "}\n",
    "\n",
    "public class Driver\n",
    "{\n",
    "    public void Drive(Car car)\n",
    "    {\n",
    "        car.Engine.Start();\n",
    "    }\n",
    "}"
   ]
  },
  {
   "cell_type": "code",
   "execution_count": null,
   "metadata": {
    "dotnet_interactive": {
     "language": "csharp"
    },
    "polyglot_notebook": {
     "kernelName": "csharp"
    }
   },
   "outputs": [],
   "source": [
    "var engine = new Engine();\n",
    "var car = new Car(engine);\n",
    "var driver = new Driver();\n",
    "\n",
    "driver.Drive(car);"
   ]
  },
  {
   "attachments": {},
   "cell_type": "markdown",
   "metadata": {},
   "source": [
    "Semantisch betrachtet ist dies sogar falsch, da die Logik nun so aussieht, als würde der Fahrer mit Muskelkraft den Motor starten, da der Fahrer direkt auf den Motor zugreift aber der Fahrer gibt dem Auto ja nur das Signal, dass der Motor gestartet werden soll."
   ]
  },
  {
   "attachments": {},
   "cell_type": "markdown",
   "metadata": {},
   "source": [
    "#### Lösung"
   ]
  },
  {
   "attachments": {},
   "cell_type": "markdown",
   "metadata": {},
   "source": [
    "Das Auto muss den Motor starten."
   ]
  },
  {
   "cell_type": "code",
   "execution_count": null,
   "metadata": {
    "dotnet_interactive": {
     "language": "csharp"
    },
    "polyglot_notebook": {
     "kernelName": "csharp"
    }
   },
   "outputs": [],
   "source": [
    "public class Engine\n",
    "{\n",
    "    public void Start() { Console.WriteLine(\"Brumm!\"); }\n",
    "}\n",
    "\n",
    "public class Car\n",
    "{\n",
    "    private readonly Engine _engine;\n",
    "\n",
    "    public Car(Engine engine)\n",
    "    {\n",
    "        _engine = engine;\n",
    "    }\n",
    "    public void Start() => _engine.Start();\n",
    "}\n",
    "\n",
    "public class Driver\n",
    "{\n",
    "    public void Drive(Car car)\n",
    "    {\n",
    "        car.Start();\n",
    "    }\n",
    "}"
   ]
  },
  {
   "cell_type": "code",
   "execution_count": null,
   "metadata": {
    "dotnet_interactive": {
     "language": "csharp"
    },
    "polyglot_notebook": {
     "kernelName": "csharp"
    }
   },
   "outputs": [],
   "source": [
    "var engine = new Engine();\n",
    "var car = new Car(engine);\n",
    "var driver = new Driver();\n",
    "\n",
    "driver.Drive(car);"
   ]
  },
  {
   "attachments": {},
   "cell_type": "markdown",
   "metadata": {},
   "source": [
    "## Rule 6: Don’t abbreviate"
   ]
  },
  {
   "attachments": {},
   "cell_type": "markdown",
   "metadata": {},
   "source": [
    "Die Frage ist: Warum möchte man abkürzen?\n",
    "* Weil man die Methode immer und immer wieder aufruft?\n",
    "    * Klingt nach einer Code-Duplizierung. Vielleicht ist das Design noch nicht gut genug.\n",
    "        * (Meine Meinung: Ist aber mit Vorsicht zu genießen. Lieber KISS und die Methode mehrmals aufrufen, anstatt komplizierte Abstrahierungen.)\n",
    "* Weil der Methodenname zu lang ist?\n",
    "    * Klingt danach, dass die Methode mehrere Zuständigkeiten hat. "
   ]
  },
  {
   "attachments": {},
   "cell_type": "markdown",
   "metadata": {},
   "source": [
    "## Rule 7: Keep all entities small"
   ]
  },
  {
   "attachments": {},
   "cell_type": "markdown",
   "metadata": {},
   "source": [
    "* Damit sind Klassen ansich gemeint.\n",
    "* Eine Klasse sollte nicht mehr als 50 Zeilen haben.\n",
    "    * Halte ich für sehr hart. Ich tendiere da eher so bei max. 150 Zeilen.\n",
    "    * Wer mehr braucht, muss dafür schon plausible Gründe nennen.\n",
    "* Mehr Zeilen kann wieder ein Indiz sein, dass die Klasse mehr als eine Zuständigkeit hat."
   ]
  },
  {
   "attachments": {},
   "cell_type": "markdown",
   "metadata": {},
   "source": [
    "### Beispiel"
   ]
  },
  {
   "attachments": {},
   "cell_type": "markdown",
   "metadata": {},
   "source": [
    "#### Problem"
   ]
  },
  {
   "attachments": {},
   "cell_type": "markdown",
   "metadata": {},
   "source": [
    "Ein Report-Generator."
   ]
  },
  {
   "cell_type": "code",
   "execution_count": null,
   "metadata": {
    "dotnet_interactive": {
     "language": "csharp"
    },
    "polyglot_notebook": {
     "kernelName": "csharp"
    }
   },
   "outputs": [],
   "source": [
    "using ObjectCalisthenics.Rule7.Example1.Models;\n",
    "\n",
    "public class Report\n",
    "{\n",
    "    public void Execute(IExcel excel)\n",
    "    {\n",
    "        excel.SetValue(\"A1\", CalculateFigureA());\n",
    "        excel.SetValue(\"A2\", CalculateFigureB());\n",
    "        excel.SetValue(\"A3\", CalculateFigureC());\n",
    "\n",
    "        foreach(var (cell, value) in CalculateTable())\n",
    "            excel.SetValue(cell, value);\n",
    "    }\n",
    "\n",
    "    private decimal CalculateFigureA() => CalculateFigureA_1() + CalculateFigureA_2();\n",
    "\n",
    "    private decimal CalculateFigureA_1() => 4711;\n",
    "\n",
    "    private decimal CalculateFigureA_2() => 23;\n",
    "\n",
    "    private decimal CalculateFigureB() => CalculateFigureB_1() + CalculateFigureB_2() / CalculateFigureB_3();\n",
    "\n",
    "    private decimal CalculateFigureB_1() => 42;\n",
    "\n",
    "    private decimal CalculateFigureB_2() => 3.14m;\n",
    "\n",
    "    private decimal CalculateFigureB_3() => 69;\n",
    "\n",
    "    private decimal CalculateFigureC() => 100;\n",
    "\n",
    "    private IEnumerable<(string cell, decimal value)> CalculateTable()\n",
    "        => new (string cell, decimal value)[]\n",
    "        {\n",
    "            new(\"A2\", 10),\n",
    "            new(\"B2\", 20),\n",
    "            new(\"C2\", 30),\n",
    "            new(\"D2\", 40),\n",
    "        };\n",
    "}"
   ]
  },
  {
   "cell_type": "code",
   "execution_count": null,
   "metadata": {
    "dotnet_interactive": {
     "language": "csharp"
    },
    "polyglot_notebook": {
     "kernelName": "csharp"
    }
   },
   "outputs": [],
   "source": [
    "var report = new Report();\n",
    "var excel = new Excel();\n",
    "report.Execute(excel);"
   ]
  },
  {
   "attachments": {},
   "cell_type": "markdown",
   "metadata": {},
   "source": [
    "Es werden mehrere Zuständigkeiten vermischt:\n",
    "* Das Tranferieren der Werte nach Excel\n",
    "* Die Berechnung mehreren von Kennzahlen\n",
    "\n",
    "Weder das Transferieren, noch die Kennzahlberechnung kann gezielt und isoliert getestet werden."
   ]
  },
  {
   "attachments": {},
   "cell_type": "markdown",
   "metadata": {},
   "source": [
    "#### Lösung"
   ]
  },
  {
   "attachments": {},
   "cell_type": "markdown",
   "metadata": {},
   "source": [
    "Das Aufzeilen in ihre Zuständigkeiten"
   ]
  },
  {
   "cell_type": "code",
   "execution_count": null,
   "metadata": {
    "dotnet_interactive": {
     "language": "csharp"
    },
    "polyglot_notebook": {
     "kernelName": "csharp"
    }
   },
   "outputs": [],
   "source": [
    "using ObjectCalisthenics.Rule7.Example1.Models;\n",
    "\n",
    "public class Report\n",
    "{\n",
    "    public void Execute(IExcel excel)\n",
    "    {\n",
    "        excel.SetValue(\"A1\", new FigureA().Calculate());\n",
    "        excel.SetValue(\"A2\", new FigureB().Calculate());\n",
    "        excel.SetValue(\"A3\", new FigureC().Calculate());\n",
    "\n",
    "        var row = 10;\n",
    "        foreach(var (country, value) in new Table().Calculate())\n",
    "        {\n",
    "            excel.SetValue($\"A{row}\", country);\n",
    "            excel.SetValue($\"B{row}\", value);\n",
    "            row++;\n",
    "        }\n",
    "    }\n",
    "}\n",
    "\n",
    "public interface IFigure<T>\n",
    "{\n",
    "    T Calculate();\n",
    "}\n",
    "\n",
    "public interface ITable<T> : IFigure<IEnumerable<T>> { }\n",
    "\n",
    "public class FigureA : IFigure<decimal>\n",
    "{\n",
    "    public decimal Calculate() => CalculateFigureA_1() + CalculateFigureA_2();\n",
    "\n",
    "    private decimal CalculateFigureA_1() => 4711;\n",
    "\n",
    "    private decimal CalculateFigureA_2() => 23;\n",
    "}\n",
    "\n",
    "public class FigureB : IFigure<decimal>\n",
    "{\n",
    "    public decimal Calculate() => CalculateFigureB_1() + CalculateFigureB_2() / CalculateFigureB_3();\n",
    "\n",
    "    private decimal CalculateFigureB_1() => 42;\n",
    "\n",
    "    private decimal CalculateFigureB_2() => 3.14m;\n",
    "\n",
    "    private decimal CalculateFigureB_3() => 69;\n",
    "}\n",
    "\n",
    "public class FigureC : IFigure<decimal>\n",
    "{\n",
    "    public decimal Calculate() => 100;\n",
    "}\n",
    "\n",
    "public class Table : ITable<(string country, decimal value)>\n",
    "{\n",
    "    public IEnumerable<(string country, decimal value)> Calculate()\n",
    "        => new (string country, decimal value)[]\n",
    "        {\n",
    "            new(\"Deutschland\", 10),\n",
    "            new(\"Dänemark\", 20),\n",
    "            new(\"Frankreich\", 30),\n",
    "            new(\"Italien\", 40),\n",
    "        };\n",
    "}"
   ]
  },
  {
   "cell_type": "code",
   "execution_count": null,
   "metadata": {
    "dotnet_interactive": {
     "language": "csharp"
    },
    "polyglot_notebook": {
     "kernelName": "csharp"
    }
   },
   "outputs": [],
   "source": [
    "var figureA = new FigureA();\n",
    "var figureB = new FigureB();\n",
    "var figureC = new FigureC();\n",
    "var table = new Table();\n",
    "Console.WriteLine(figureA.Calculate());\n",
    "Console.WriteLine(figureB.Calculate());\n",
    "Console.WriteLine(figureC.Calculate());\n",
    "table.Calculate().ToList().ForEach(x => Console.WriteLine($\"{x.country} => {x.value}\"));\n",
    "\n",
    "var report = new Report();\n",
    "var excel = new Excel();\n",
    "report.Execute(excel);"
   ]
  },
  {
   "attachments": {},
   "cell_type": "markdown",
   "metadata": {},
   "source": [
    "## Rule 8: Do not use classes with more than two instance variables"
   ]
  },
  {
   "attachments": {},
   "cell_type": "markdown",
   "metadata": {},
   "source": [
    "* Die Regel ist absichtlich provokativ gehalten. \n",
    "    * Die Begründung ist: \"Warum nicht?\"\n",
    "* Sie soll einen dazu anregen, welche Daten wie zusammengefasst werden können."
   ]
  },
  {
   "attachments": {},
   "cell_type": "markdown",
   "metadata": {},
   "source": [
    "### Beispiel"
   ]
  },
  {
   "attachments": {},
   "cell_type": "markdown",
   "metadata": {},
   "source": [
    "#### Problem"
   ]
  },
  {
   "attachments": {},
   "cell_type": "markdown",
   "metadata": {},
   "source": [
    "Eine ``Person``-Klasse, die sehr viele Eigenschaften beinhaltet."
   ]
  },
  {
   "cell_type": "code",
   "execution_count": null,
   "metadata": {
    "dotnet_interactive": {
     "language": "csharp"
    },
    "polyglot_notebook": {
     "kernelName": "csharp"
    }
   },
   "outputs": [],
   "source": [
    "public record Customer(Guid Id, string FirstName, string LastName, string Street, string StreetNo, string City, string PostalCode);"
   ]
  },
  {
   "attachments": {},
   "cell_type": "markdown",
   "metadata": {},
   "source": [
    "#### Lösung"
   ]
  },
  {
   "attachments": {},
   "cell_type": "markdown",
   "metadata": {},
   "source": [
    "Wenn man es aber genau betrachtet, lasssen sich viele Dinge clustern."
   ]
  },
  {
   "cell_type": "code",
   "execution_count": null,
   "metadata": {
    "dotnet_interactive": {
     "language": "csharp"
    },
    "polyglot_notebook": {
     "kernelName": "csharp"
    }
   },
   "outputs": [],
   "source": [
    "public record class Customer(Guid Id, Contact Contact);\n",
    "public record Contact(Name Name, Address Address);\n",
    "public record Name(string FirstName, string LastName);\n",
    "public record Street(string Name, string No);\n",
    "public record Address(Street street, string City, string PostalCode); // Hier weiche ich schon ab. Mir fällt da  nichts mehr besseres ein."
   ]
  },
  {
   "attachments": {},
   "cell_type": "markdown",
   "metadata": {},
   "source": [
    "Das geht ebenfalls in die Richtung von Regel 3 (Wrap all primitives and Strings)."
   ]
  },
  {
   "attachments": {},
   "cell_type": "markdown",
   "metadata": {},
   "source": [
    "## Rule 9: No getters/setters/properties"
   ]
  },
  {
   "attachments": {},
   "cell_type": "markdown",
   "metadata": {},
   "source": [
    "* Getter sind zwar schon erlaubt, um Dinge abzufragen, sie sollen aber kein Bestandteil der Logik innerhalb der Klasse sein.\n",
    "* Gemeint ist das \"Tell, don't ask\"-Principle."
   ]
  },
  {
   "attachments": {},
   "cell_type": "markdown",
   "metadata": {},
   "source": [
    "### Beispiel"
   ]
  },
  {
   "attachments": {},
   "cell_type": "markdown",
   "metadata": {},
   "source": [
    "#### Problem"
   ]
  },
  {
   "attachments": {},
   "cell_type": "markdown",
   "metadata": {},
   "source": [
    "In einem Spiel soll mit einer Methode der Score eines Spielers um 10 Punkte erhöht werden."
   ]
  },
  {
   "cell_type": "code",
   "execution_count": null,
   "metadata": {
    "dotnet_interactive": {
     "language": "csharp"
    },
    "polyglot_notebook": {
     "kernelName": "csharp"
    }
   },
   "outputs": [],
   "source": [
    "public record Score(int Points);\n",
    "\n",
    "public class Player\n",
    "{\n",
    "    public Score Score {get; private set; } = new Score(0);\n",
    "\n",
    "    public void UpdateScore()\n",
    "    {\n",
    "        Score = Score with { Points = this.Score.Points + 10 };\n",
    "    }\n",
    "}"
   ]
  },
  {
   "cell_type": "code",
   "execution_count": null,
   "metadata": {
    "dotnet_interactive": {
     "language": "csharp"
    },
    "polyglot_notebook": {
     "kernelName": "csharp"
    }
   },
   "outputs": [],
   "source": [
    "var player = new Player();\n",
    "player.UpdateScore();\n",
    "Console.WriteLine(player.Score);"
   ]
  },
  {
   "attachments": {},
   "cell_type": "markdown",
   "metadata": {},
   "source": [
    "Die ``Player``-Klasse ist für die Logik zuständig. Sie fragt zuerst den Score ab und addiert selber 10 Punkte drauf.  \n",
    "Dies bringt wieder mehr Komplexität in die ``Player``-Klasse."
   ]
  },
  {
   "attachments": {},
   "cell_type": "markdown",
   "metadata": {},
   "source": [
    "#### Lösung"
   ]
  },
  {
   "attachments": {},
   "cell_type": "markdown",
   "metadata": {},
   "source": [
    "Logik in die in das ``Score``-Record verschieben."
   ]
  },
  {
   "cell_type": "code",
   "execution_count": null,
   "metadata": {
    "dotnet_interactive": {
     "language": "csharp"
    },
    "polyglot_notebook": {
     "kernelName": "csharp"
    }
   },
   "outputs": [],
   "source": [
    "public record Score(int Points)\n",
    "{\n",
    "    public Score Update() => this with { Points = Points + 10 };\n",
    "}\n",
    "\n",
    "public class Player\n",
    "{\n",
    "    public Score Score {get; private set; } = new Score(0);\n",
    "\n",
    "    public void UpdateScore() => Score = Score.Update();\n",
    "}"
   ]
  },
  {
   "cell_type": "code",
   "execution_count": null,
   "metadata": {
    "dotnet_interactive": {
     "language": "csharp"
    },
    "polyglot_notebook": {
     "kernelName": "csharp"
    }
   },
   "outputs": [],
   "source": [
    "var player = new Player();\n",
    "player.UpdateScore();\n",
    "Console.WriteLine(player.Score);"
   ]
  }
 ],
 "metadata": {
  "kernelspec": {
   "display_name": ".NET (C#)",
   "language": "C#",
   "name": ".net-csharp"
  },
  "language_info": {
   "name": "polyglot-notebook"
  },
  "polyglot_notebook": {
   "kernelInfo": {
    "defaultKernelName": "csharp",
    "items": [
     {
      "aliases": [],
      "languageName": "csharp",
      "name": "csharp"
     }
    ]
   }
  }
 },
 "nbformat": 4,
 "nbformat_minor": 2
}
